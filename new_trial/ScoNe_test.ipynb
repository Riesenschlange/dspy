{
 "cells": [
  {
   "cell_type": "markdown",
   "metadata": {},
   "source": [
    "## Импорт необходимых библиотек и отключение ворнингов"
   ]
  },
  {
   "cell_type": "code",
   "execution_count": 132,
   "metadata": {},
   "outputs": [],
   "source": [
    "import glob\n",
    "import os\n",
    "import pandas as pd\n",
    "import random\n",
    "import dspy\n",
    "from dspy.evaluate import Evaluate\n",
    "from dspy.teleprompt import BootstrapFewShotWithRandomSearch\n",
    "import warnings\n",
    "warnings.filterwarnings('ignore')"
   ]
  },
  {
   "cell_type": "markdown",
   "metadata": {},
   "source": [
    "## Инициализация моделей для генерации Zero-Shot CoT и bootstrapping"
   ]
  },
  {
   "cell_type": "code",
   "execution_count": null,
   "metadata": {},
   "outputs": [],
   "source": [
    "turbo = dspy.LM('gpt-3.5-turbo', max_tokens = 250, model_type = 'chat', api_base = \"https://api.proxyapi.ru/openai/v1\", api_key = \"\")\n",
    "dspy.configure(lm = turbo)\n",
    "gpt4 = dspy.LM('gpt-4o', max_tokens = 350, model_type='chat', api_base = \"https://api.proxyapi.ru/openai/v1\", api_key = \"\")"
   ]
  },
  {
   "cell_type": "markdown",
   "metadata": {},
   "source": [
    "## Если установить значение ниже истинным, то буст будет сделан заново"
   ]
  },
  {
   "cell_type": "code",
   "execution_count": null,
   "metadata": {},
   "outputs": [],
   "source": [
    "RUN_FROM_SCRATCH = False"
   ]
  },
  {
   "cell_type": "markdown",
   "metadata": {},
   "source": [
    "## Загрузка данных (каждый раз указываем путь к датасету!!)"
   ]
  },
  {
   "cell_type": "code",
   "execution_count": 135,
   "metadata": {},
   "outputs": [],
   "source": [
    "def load_scone(root_dir = \"C:\\\\Users\\\\julia\\\\OneDrive\\\\Desktop\\\\MFTI_code\\\\dspy\\\\scone_nli\\\\train\"):\n",
    "    dfs = []\n",
    "    for filename in glob.glob(\"*.csv\", root_dir = root_dir):\n",
    "        url = f'{root_dir}\\\\{filename}'\n",
    "        df = pd.read_csv(url, index_col = 0)\n",
    "        df['category'] = os.path.basename(filename).replace(\".csv\", \"\")\n",
    "        dfs.append(df)\n",
    "    data_df = pd.concat(dfs)\n",
    "    \n",
    "    def as_example(row):\n",
    "        suffix = '' if row ['category'] == 'one_scoped' else '_edited'\n",
    "        hkey = 'sentence2' + suffix\n",
    "        question = row[hkey][0].lower() + row[hkey][1:].strip(\".\")\n",
    "        question = f\"Can we logically conclude for sure that {question}?\"\n",
    "        label = \"Yes\" if row['gold_label' + suffix] == 'entailment' else \"No\"\n",
    "        return dspy.Example({\n",
    "            \"context\": row['sentence1' + suffix],\n",
    "            \"question\": question,\n",
    "            \"answer\": label,\n",
    "            \"category\": row['category']\n",
    "            }).with_inputs(\"context\", \"question\")\n",
    "\n",
    "    return list(data_df.apply(as_example, axis = 1).values)\n"
   ]
  },
  {
   "cell_type": "markdown",
   "metadata": {},
   "source": [
    "## Формирование тестовой и демонстрационной выборок"
   ]
  },
  {
   "cell_type": "code",
   "execution_count": 136,
   "metadata": {},
   "outputs": [
    {
     "data": {
      "text/plain": [
       "(200, 50)"
      ]
     },
     "execution_count": 136,
     "metadata": {},
     "output_type": "execute_result"
    }
   ],
   "source": [
    "all_train = load_scone()\n",
    "random.seed(1)\n",
    "random.shuffle(all_train)\n",
    "train, dev = all_train[: 200], all_train[200: 250]\n",
    "len(train), len(dev)"
   ]
  },
  {
   "cell_type": "markdown",
   "metadata": {},
   "source": [
    "## Тест"
   ]
  },
  {
   "cell_type": "code",
   "execution_count": null,
   "metadata": {},
   "outputs": [
    {
     "name": "stdout",
     "output_type": "stream",
     "text": [
      "[Example({'context': 'the man does not own a dog', 'question': 'Can we logically conclude for sure that the man does not own a mammal?', 'answer': 'No', 'category': 'one_scoped'}) (input_keys={'question', 'context'}), Example({'context': 'the man does not own a mammal', 'question': 'Can we logically conclude for sure that the man does not own a dog?', 'answer': 'Yes', 'category': 'one_scoped'}) (input_keys={'question', 'context'}), Example({'context': 'the man does not own a dog', 'question': 'Can we logically conclude for sure that the man does not own an animal?', 'answer': 'No', 'category': 'one_scoped'}) (input_keys={'question', 'context'}), Example({'context': 'the man does not own an animal', 'question': 'Can we logically conclude for sure that the man does not own a dog?', 'answer': 'Yes', 'category': 'one_scoped'}) (input_keys={'question', 'context'}), Example({'context': 'the man does not own a dog', 'question': 'Can we logically conclude for sure that the man does not own a pinscher?', 'answer': 'Yes', 'category': 'one_scoped'}) (input_keys={'question', 'context'}), Example({'context': 'the man does not own a pinscher', 'question': 'Can we logically conclude for sure that the man does not own a dog?', 'answer': 'No', 'category': 'one_scoped'}) (input_keys={'question', 'context'}), Example({'context': 'the man does not own a dog', 'question': 'Can we logically conclude for sure that the man does not own a sheepdog?', 'answer': 'Yes', 'category': 'one_scoped'}) (input_keys={'question', 'context'}), Example({'context': 'the man does not own a sheepdog', 'question': 'Can we logically conclude for sure that the man does not own a dog?', 'answer': 'No', 'category': 'one_scoped'}) (input_keys={'question', 'context'}), Example({'context': 'the man does not own a dog', 'question': 'Can we logically conclude for sure that the man does not own a greyhound?', 'answer': 'Yes', 'category': 'one_scoped'}) (input_keys={'question', 'context'}), Example({'context': 'the man does not own a greyhound', 'question': 'Can we logically conclude for sure that the man does not own a dog?', 'answer': 'No', 'category': 'one_scoped'}) (input_keys={'question', 'context'}), Example({'context': 'the man does not own a dog', 'question': 'Can we logically conclude for sure that the man does not own a hound?', 'answer': 'Yes', 'category': 'one_scoped'}) (input_keys={'question', 'context'}), Example({'context': 'the man does not own a hound', 'question': 'Can we logically conclude for sure that the man does not own a dog?', 'answer': 'No', 'category': 'one_scoped'}) (input_keys={'question', 'context'}), Example({'context': 'the man does not own a dog', 'question': 'Can we logically conclude for sure that the man does not own a husky?', 'answer': 'Yes', 'category': 'one_scoped'}) (input_keys={'question', 'context'}), Example({'context': 'the man does not own a husky', 'question': 'Can we logically conclude for sure that the man does not own a dog?', 'answer': 'No', 'category': 'one_scoped'}) (input_keys={'question', 'context'}), Example({'context': 'the man does not own a dog', 'question': 'Can we logically conclude for sure that the man does not own a dachshund?', 'answer': 'Yes', 'category': 'one_scoped'}) (input_keys={'question', 'context'}), Example({'context': 'the man does not own a dachshund', 'question': 'Can we logically conclude for sure that the man does not own a dog?', 'answer': 'No', 'category': 'one_scoped'}) (input_keys={'question', 'context'}), Example({'context': 'the man does not own a dog', 'question': 'Can we logically conclude for sure that the man does not own a Chihuahua?', 'answer': 'Yes', 'category': 'one_scoped'}) (input_keys={'question', 'context'}), Example({'context': 'the man does not own a Chihuahua', 'question': 'Can we logically conclude for sure that the man does not own a dog?', 'answer': 'No', 'category': 'one_scoped'}) (input_keys={'question', 'context'}), Example({'context': 'the man does not own a dog', 'question': 'Can we logically conclude for sure that the man does not own a spaniel?', 'answer': 'Yes', 'category': 'one_scoped'}) (input_keys={'question', 'context'}), Example({'context': 'the man does not own a spaniel', 'question': 'Can we logically conclude for sure that the man does not own a dog?', 'answer': 'No', 'category': 'one_scoped'}) (input_keys={'question', 'context'}), Example({'context': 'the man does not own a dog', 'question': 'Can we logically conclude for sure that the man does not own a pug?', 'answer': 'Yes', 'category': 'one_scoped'}) (input_keys={'question', 'context'}), Example({'context': 'the man does not own a pug', 'question': 'Can we logically conclude for sure that the man does not own a dog?', 'answer': 'No', 'category': 'one_scoped'}) (input_keys={'question', 'context'}), Example({'context': 'the man does not own a dog', 'question': 'Can we logically conclude for sure that the man does not own a beagle?', 'answer': 'Yes', 'category': 'one_scoped'}) (input_keys={'question', 'context'}), Example({'context': 'the man does not own a beagle', 'question': 'Can we logically conclude for sure that the man does not own a dog?', 'answer': 'No', 'category': 'one_scoped'}) (input_keys={'question', 'context'}), Example({'context': 'the man does not own a dog', 'question': 'Can we logically conclude for sure that the man does not own a malamute?', 'answer': 'Yes', 'category': 'one_scoped'}) (input_keys={'question', 'context'}), Example({'context': 'the man does not own a malamute', 'question': 'Can we logically conclude for sure that the man does not own a dog?', 'answer': 'No', 'category': 'one_scoped'}) (input_keys={'question', 'context'}), Example({'context': 'the man does not own a dog', 'question': 'Can we logically conclude for sure that the man does not own a Maltese?', 'answer': 'Yes', 'category': 'one_scoped'}) (input_keys={'question', 'context'}), Example({'context': 'the man does not own a Maltese', 'question': 'Can we logically conclude for sure that the man does not own a dog?', 'answer': 'No', 'category': 'one_scoped'}) (input_keys={'question', 'context'}), Example({'context': 'the man does not own a dog', 'question': 'Can we logically conclude for sure that the man does not own a Doberman?', 'answer': 'Yes', 'category': 'one_scoped'}) (input_keys={'question', 'context'}), Example({'context': 'the man does not own a Doberman', 'question': 'Can we logically conclude for sure that the man does not own a dog?', 'answer': 'No', 'category': 'one_scoped'}) (input_keys={'question', 'context'}), Example({'context': 'the man does not own a dog', 'question': 'Can we logically conclude for sure that the man does not own a bulldog?', 'answer': 'Yes', 'category': 'one_scoped'}) (input_keys={'question', 'context'}), Example({'context': 'the man does not own a bulldog', 'question': 'Can we logically conclude for sure that the man does not own a dog?', 'answer': 'No', 'category': 'one_scoped'}) (input_keys={'question', 'context'}), Example({'context': 'the man does not own a dog', 'question': 'Can we logically conclude for sure that the man does not own a collie?', 'answer': 'Yes', 'category': 'one_scoped'}) (input_keys={'question', 'context'}), Example({'context': 'the man does not own a collie', 'question': 'Can we logically conclude for sure that the man does not own a dog?', 'answer': 'No', 'category': 'one_scoped'}) (input_keys={'question', 'context'}), Example({'context': 'the man does not own a dog', 'question': 'Can we logically conclude for sure that the man does not own a poodle?', 'answer': 'Yes', 'category': 'one_scoped'}) (input_keys={'question', 'context'}), Example({'context': 'the man does not own a poodle', 'question': 'Can we logically conclude for sure that the man does not own a dog?', 'answer': 'No', 'category': 'one_scoped'}) (input_keys={'question', 'context'}), Example({'context': 'the man does not own a dog', 'question': 'Can we logically conclude for sure that the man does not own a Pomeranian?', 'answer': 'Yes', 'category': 'one_scoped'}) (input_keys={'question', 'context'}), Example({'context': 'the man does not own a Pomeranian', 'question': 'Can we logically conclude for sure that the man does not own a dog?', 'answer': 'No', 'category': 'one_scoped'}) (input_keys={'question', 'context'}), Example({'context': 'the man does not own a dog', 'question': 'Can we logically conclude for sure that the man does not own a retriever?', 'answer': 'Yes', 'category': 'one_scoped'}) (input_keys={'question', 'context'}), Example({'context': 'the man does not own a retriever', 'question': 'Can we logically conclude for sure that the man does not own a dog?', 'answer': 'No', 'category': 'one_scoped'}) (input_keys={'question', 'context'}), Example({'context': 'the man does not own a dog', 'question': 'Can we logically conclude for sure that the man does not own a schnauzer?', 'answer': 'Yes', 'category': 'one_scoped'}) (input_keys={'question', 'context'}), Example({'context': 'the man does not own a schnauzer', 'question': 'Can we logically conclude for sure that the man does not own a dog?', 'answer': 'No', 'category': 'one_scoped'}) (input_keys={'question', 'context'}), Example({'context': 'the man does not own a dog', 'question': 'Can we logically conclude for sure that the man does not own a terrier?', 'answer': 'Yes', 'category': 'one_scoped'}) (input_keys={'question', 'context'}), Example({'context': 'the man does not own a terrier', 'question': 'Can we logically conclude for sure that the man does not own a dog?', 'answer': 'No', 'category': 'one_scoped'}) (input_keys={'question', 'context'}), Example({'context': 'the man does not own a dog', 'question': 'Can we logically conclude for sure that the man does not own a corgi?', 'answer': 'Yes', 'category': 'one_scoped'}) (input_keys={'question', 'context'}), Example({'context': 'the man does not own a corgi', 'question': 'Can we logically conclude for sure that the man does not own a dog?', 'answer': 'No', 'category': 'one_scoped'}) (input_keys={'question', 'context'}), Example({'context': 'the man does not own a dog', 'question': 'Can we logically conclude for sure that the man does not own a Rottweiler?', 'answer': 'Yes', 'category': 'one_scoped'}) (input_keys={'question', 'context'}), Example({'context': 'the man does not own a Rottweiler', 'question': 'Can we logically conclude for sure that the man does not own a dog?', 'answer': 'No', 'category': 'one_scoped'}) (input_keys={'question', 'context'}), Example({'context': 'the man does not own a dog', 'question': 'Can we logically conclude for sure that the man does not own a Shetland?', 'answer': 'Yes', 'category': 'one_scoped'}) (input_keys={'question', 'context'}), Example({'context': 'the man does not own a Shetland', 'question': 'Can we logically conclude for sure that the man does not own a dog?', 'answer': 'No', 'category': 'one_scoped'}) (input_keys={'question', 'context'}), Example({'context': 'the man does not own a dog', 'question': 'Can we logically conclude for sure that the man does not own a dalmatian?', 'answer': 'Yes', 'category': 'one_scoped'}) (input_keys={'question', 'context'}), Example({'context': 'the man does not own a dalmatian', 'question': 'Can we logically conclude for sure that the man does not own a dog?', 'answer': 'No', 'category': 'one_scoped'}) (input_keys={'question', 'context'}), Example({'context': 'The girl will not get a stuffed dog as a gift.', 'question': 'Can we logically conclude for sure that the girl will not get a stuffed mammal as a gift?', 'answer': 'No', 'category': 'one_scoped'}) (input_keys={'question', 'context'}), Example({'context': 'The girl will not get a stuffed mammal as a gift.', 'question': 'Can we logically conclude for sure that the girl will not get a stuffed dog as a gift?', 'answer': 'Yes', 'category': 'one_scoped'}) (input_keys={'question', 'context'}), Example({'context': 'The girl will not get a stuffed dog as a gift.', 'question': 'Can we logically conclude for sure that the girl will not get a stuffed animal as a gift?', 'answer': 'No', 'category': 'one_scoped'}) (input_keys={'question', 'context'}), Example({'context': 'The girl will not get a stuffed animal as a gift.', 'question': 'Can we logically conclude for sure that the girl will not get a stuffed dog as a gift?', 'answer': 'Yes', 'category': 'one_scoped'}) (input_keys={'question', 'context'}), Example({'context': 'The girl will not get a stuffed dog as a gift.', 'question': 'Can we logically conclude for sure that the girl will not get a stuffed pug as a gift?', 'answer': 'Yes', 'category': 'one_scoped'}) (input_keys={'question', 'context'}), Example({'context': 'The girl will not get a stuffed pug as a gift.', 'question': 'Can we logically conclude for sure that the girl will not get a stuffed dog as a gift?', 'answer': 'No', 'category': 'one_scoped'}) (input_keys={'question', 'context'}), Example({'context': 'The girl will not get a stuffed dog as a gift.', 'question': 'Can we logically conclude for sure that the girl will not get a stuffed husky as a gift?', 'answer': 'Yes', 'category': 'one_scoped'}) (input_keys={'question', 'context'}), Example({'context': 'The girl will not get a stuffed husky as a gift.', 'question': 'Can we logically conclude for sure that the girl will not get a stuffed dog as a gift?', 'answer': 'No', 'category': 'one_scoped'}) (input_keys={'question', 'context'}), Example({'context': 'The girl will not get a stuffed dog as a gift.', 'question': 'Can we logically conclude for sure that the girl will not get a stuffed corgi as a gift?', 'answer': 'Yes', 'category': 'one_scoped'}) (input_keys={'question', 'context'}), Example({'context': 'The girl will not get a stuffed corgi as a gift.', 'question': 'Can we logically conclude for sure that the girl will not get a stuffed dog as a gift?', 'answer': 'No', 'category': 'one_scoped'}) (input_keys={'question', 'context'}), Example({'context': 'The girl will not get a stuffed dog as a gift.', 'question': 'Can we logically conclude for sure that the girl will not get a stuffed hound as a gift?', 'answer': 'Yes', 'category': 'one_scoped'}) (input_keys={'question', 'context'}), Example({'context': 'The girl will not get a stuffed hound as a gift.', 'question': 'Can we logically conclude for sure that the girl will not get a stuffed dog as a gift?', 'answer': 'No', 'category': 'one_scoped'}) (input_keys={'question', 'context'}), Example({'context': 'The girl will not get a stuffed dog as a gift.', 'question': 'Can we logically conclude for sure that the girl will not get a stuffed bulldog as a gift?', 'answer': 'Yes', 'category': 'one_scoped'}) (input_keys={'question', 'context'}), Example({'context': 'The girl will not get a stuffed bulldog as a gift.', 'question': 'Can we logically conclude for sure that the girl will not get a stuffed dog as a gift?', 'answer': 'No', 'category': 'one_scoped'}) (input_keys={'question', 'context'}), Example({'context': 'The girl will not get a stuffed dog as a gift.', 'question': 'Can we logically conclude for sure that the girl will not get a stuffed terrier as a gift?', 'answer': 'Yes', 'category': 'one_scoped'}) (input_keys={'question', 'context'}), Example({'context': 'The girl will not get a stuffed terrier as a gift.', 'question': 'Can we logically conclude for sure that the girl will not get a stuffed dog as a gift?', 'answer': 'No', 'category': 'one_scoped'}) (input_keys={'question', 'context'}), Example({'context': 'The girl will not get a stuffed dog as a gift.', 'question': 'Can we logically conclude for sure that the girl will not get a stuffed poodle as a gift?', 'answer': 'Yes', 'category': 'one_scoped'}) (input_keys={'question', 'context'}), Example({'context': 'The girl will not get a stuffed poodle as a gift.', 'question': 'Can we logically conclude for sure that the girl will not get a stuffed dog as a gift?', 'answer': 'No', 'category': 'one_scoped'}) (input_keys={'question', 'context'}), Example({'context': 'The girl will not get a stuffed dog as a gift.', 'question': 'Can we logically conclude for sure that the girl will not get a stuffed dalmatian as a gift?', 'answer': 'Yes', 'category': 'one_scoped'}) (input_keys={'question', 'context'}), Example({'context': 'The girl will not get a stuffed dalmatian as a gift.', 'question': 'Can we logically conclude for sure that the girl will not get a stuffed dog as a gift?', 'answer': 'No', 'category': 'one_scoped'}) (input_keys={'question', 'context'}), Example({'context': 'The girl will not get a stuffed dog as a gift.', 'question': 'Can we logically conclude for sure that the girl will not get a stuffed Shetland as a gift?', 'answer': 'Yes', 'category': 'one_scoped'}) (input_keys={'question', 'context'}), Example({'context': 'The girl will not get a stuffed Shetland as a gift.', 'question': 'Can we logically conclude for sure that the girl will not get a stuffed dog as a gift?', 'answer': 'No', 'category': 'one_scoped'}) (input_keys={'question', 'context'}), Example({'context': 'The girl will not get a stuffed dog as a gift.', 'question': 'Can we logically conclude for sure that the girl will not get a stuffed pinscher as a gift?', 'answer': 'Yes', 'category': 'one_scoped'}) (input_keys={'question', 'context'}), Example({'context': 'The girl will not get a stuffed pinscher as a gift.', 'question': 'Can we logically conclude for sure that the girl will not get a stuffed dog as a gift?', 'answer': 'No', 'category': 'one_scoped'}) (input_keys={'question', 'context'}), Example({'context': 'The girl will not get a stuffed dog as a gift.', 'question': 'Can we logically conclude for sure that the girl will not get a stuffed dachshund as a gift?', 'answer': 'Yes', 'category': 'one_scoped'}) (input_keys={'question', 'context'}), Example({'context': 'The girl will not get a stuffed dachshund as a gift.', 'question': 'Can we logically conclude for sure that the girl will not get a stuffed dog as a gift?', 'answer': 'No', 'category': 'one_scoped'}) (input_keys={'question', 'context'}), Example({'context': 'The girl will not get a stuffed dog as a gift.', 'question': 'Can we logically conclude for sure that the girl will not get a stuffed Doberman as a gift?', 'answer': 'Yes', 'category': 'one_scoped'}) (input_keys={'question', 'context'}), Example({'context': 'The girl will not get a stuffed Doberman as a gift.', 'question': 'Can we logically conclude for sure that the girl will not get a stuffed dog as a gift?', 'answer': 'No', 'category': 'one_scoped'}) (input_keys={'question', 'context'}), Example({'context': 'The girl will not get a stuffed dog as a gift.', 'question': 'Can we logically conclude for sure that the girl will not get a stuffed Pomeranian as a gift?', 'answer': 'Yes', 'category': 'one_scoped'}) (input_keys={'question', 'context'}), Example({'context': 'The girl will not get a stuffed Pomeranian as a gift.', 'question': 'Can we logically conclude for sure that the girl will not get a stuffed dog as a gift?', 'answer': 'No', 'category': 'one_scoped'}) (input_keys={'question', 'context'}), Example({'context': 'The girl will not get a stuffed dog as a gift.', 'question': 'Can we logically conclude for sure that the girl will not get a stuffed beagle as a gift?', 'answer': 'Yes', 'category': 'one_scoped'}) (input_keys={'question', 'context'}), Example({'context': 'The girl will not get a stuffed beagle as a gift.', 'question': 'Can we logically conclude for sure that the girl will not get a stuffed dog as a gift?', 'answer': 'No', 'category': 'one_scoped'}) (input_keys={'question', 'context'}), Example({'context': 'The girl will not get a stuffed dog as a gift.', 'question': 'Can we logically conclude for sure that the girl will not get a stuffed retriever as a gift?', 'answer': 'Yes', 'category': 'one_scoped'}) (input_keys={'question', 'context'}), Example({'context': 'The girl will not get a stuffed retriever as a gift.', 'question': 'Can we logically conclude for sure that the girl will not get a stuffed dog as a gift?', 'answer': 'No', 'category': 'one_scoped'}) (input_keys={'question', 'context'}), Example({'context': 'The girl will not get a stuffed dog as a gift.', 'question': 'Can we logically conclude for sure that the girl will not get a stuffed Rottweiler as a gift?', 'answer': 'Yes', 'category': 'one_scoped'}) (input_keys={'question', 'context'}), Example({'context': 'The girl will not get a stuffed Rottweiler as a gift.', 'question': 'Can we logically conclude for sure that the girl will not get a stuffed dog as a gift?', 'answer': 'No', 'category': 'one_scoped'}) (input_keys={'question', 'context'}), Example({'context': 'The girl will not get a stuffed dog as a gift.', 'question': 'Can we logically conclude for sure that the girl will not get a stuffed malamute as a gift?', 'answer': 'Yes', 'category': 'one_scoped'}) (input_keys={'question', 'context'}), Example({'context': 'The girl will not get a stuffed malamute as a gift.', 'question': 'Can we logically conclude for sure that the girl will not get a stuffed dog as a gift?', 'answer': 'No', 'category': 'one_scoped'}) (input_keys={'question', 'context'}), Example({'context': 'The girl will not get a stuffed dog as a gift.', 'question': 'Can we logically conclude for sure that the girl will not get a stuffed schnauzer as a gift?', 'answer': 'Yes', 'category': 'one_scoped'}) (input_keys={'question', 'context'}), Example({'context': 'The girl will not get a stuffed schnauzer as a gift.', 'question': 'Can we logically conclude for sure that the girl will not get a stuffed dog as a gift?', 'answer': 'No', 'category': 'one_scoped'}) (input_keys={'question', 'context'}), Example({'context': 'The girl will not get a stuffed dog as a gift.', 'question': 'Can we logically conclude for sure that the girl will not get a stuffed greyhound as a gift?', 'answer': 'Yes', 'category': 'one_scoped'}) (input_keys={'question', 'context'}), Example({'context': 'The girl will not get a stuffed greyhound as a gift.', 'question': 'Can we logically conclude for sure that the girl will not get a stuffed dog as a gift?', 'answer': 'No', 'category': 'one_scoped'}) (input_keys={'question', 'context'}), Example({'context': 'The girl will not get a stuffed dog as a gift.', 'question': 'Can we logically conclude for sure that the girl will not get a stuffed Chihuahua as a gift?', 'answer': 'Yes', 'category': 'one_scoped'}) (input_keys={'question', 'context'}), Example({'context': 'The girl will not get a stuffed Chihuahua as a gift.', 'question': 'Can we logically conclude for sure that the girl will not get a stuffed dog as a gift?', 'answer': 'No', 'category': 'one_scoped'}) (input_keys={'question', 'context'}), Example({'context': 'A person reading a paper is not currently sitting inside a building.', 'question': 'Can we logically conclude for sure that a person reading a paper is not currently sitting inside a house?', 'answer': 'Yes', 'category': 'one_scoped'}) (input_keys={'question', 'context'}), Example({'context': 'A person reading a paper is not currently sitting inside a house.', 'question': 'Can we logically conclude for sure that a person reading a paper is not currently sitting inside a building?', 'answer': 'No', 'category': 'one_scoped'}) (input_keys={'question', 'context'}), Example({'context': 'A person reading a paper is not currently sitting inside a building.', 'question': 'Can we logically conclude for sure that a person reading a paper is not currently sitting inside a casino?', 'answer': 'Yes', 'category': 'one_scoped'}) (input_keys={'question', 'context'}), Example({'context': 'A person reading a paper is not currently sitting inside a casino.', 'question': 'Can we logically conclude for sure that a person reading a paper is not currently sitting inside a building?', 'answer': 'No', 'category': 'one_scoped'}) (input_keys={'question', 'context'}), Example({'context': 'A person reading a paper is not currently sitting inside a building.', 'question': 'Can we logically conclude for sure that a person reading a paper is not currently sitting inside a chapel?', 'answer': 'Yes', 'category': 'one_scoped'}) (input_keys={'question', 'context'}), Example({'context': 'A person reading a paper is not currently sitting inside a chapel.', 'question': 'Can we logically conclude for sure that a person reading a paper is not currently sitting inside a building?', 'answer': 'No', 'category': 'one_scoped'}) (input_keys={'question', 'context'}), Example({'context': 'A person reading a paper is not currently sitting inside a building.', 'question': 'Can we logically conclude for sure that a person reading a paper is not currently sitting inside a restaurant?', 'answer': 'Yes', 'category': 'one_scoped'}) (input_keys={'question', 'context'}), Example({'context': 'A person reading a paper is not currently sitting inside a restaurant.', 'question': 'Can we logically conclude for sure that a person reading a paper is not currently sitting inside a building?', 'answer': 'No', 'category': 'one_scoped'}) (input_keys={'question', 'context'}), Example({'context': 'A person reading a paper is not currently sitting inside a building.', 'question': 'Can we logically conclude for sure that a person reading a paper is not currently sitting inside a cabin?', 'answer': 'Yes', 'category': 'one_scoped'}) (input_keys={'question', 'context'}), Example({'context': 'A person reading a paper is not currently sitting inside a cabin.', 'question': 'Can we logically conclude for sure that a person reading a paper is not currently sitting inside a building?', 'answer': 'No', 'category': 'one_scoped'}) (input_keys={'question', 'context'}), Example({'context': 'A person reading a paper is not currently sitting inside a building.', 'question': 'Can we logically conclude for sure that a person reading a paper is not currently sitting inside a school?', 'answer': 'Yes', 'category': 'one_scoped'}) (input_keys={'question', 'context'}), Example({'context': 'A person reading a paper is not currently sitting inside a school.', 'question': 'Can we logically conclude for sure that a person reading a paper is not currently sitting inside a building?', 'answer': 'No', 'category': 'one_scoped'}) (input_keys={'question', 'context'}), Example({'context': 'A person reading a paper is not currently sitting inside a building.', 'question': 'Can we logically conclude for sure that a person reading a paper is not currently sitting inside a court?', 'answer': 'Yes', 'category': 'one_scoped'}) (input_keys={'question', 'context'}), Example({'context': 'A person reading a paper is not currently sitting inside a court.', 'question': 'Can we logically conclude for sure that a person reading a paper is not currently sitting inside a building?', 'answer': 'No', 'category': 'one_scoped'}) (input_keys={'question', 'context'}), Example({'context': 'A person reading a paper is not currently sitting inside a building.', 'question': 'Can we logically conclude for sure that a person reading a paper is not currently sitting inside an opera?', 'answer': 'Yes', 'category': 'one_scoped'}) (input_keys={'question', 'context'}), Example({'context': 'A person reading a paper is not currently sitting inside an opera.', 'question': 'Can we logically conclude for sure that a person reading a paper is not currently sitting inside a building?', 'answer': 'No', 'category': 'one_scoped'}) (input_keys={'question', 'context'}), Example({'context': 'A person reading a paper is not currently sitting inside a building.', 'question': 'Can we logically conclude for sure that a person reading a paper is not currently sitting inside a monastery?', 'answer': 'Yes', 'category': 'one_scoped'}) (input_keys={'question', 'context'}), Example({'context': 'A person reading a paper is not currently sitting inside a monastery.', 'question': 'Can we logically conclude for sure that a person reading a paper is not currently sitting inside a building?', 'answer': 'No', 'category': 'one_scoped'}) (input_keys={'question', 'context'}), Example({'context': 'A person reading a paper is not currently sitting inside a building.', 'question': 'Can we logically conclude for sure that a person reading a paper is not currently sitting inside a pub?', 'answer': 'Yes', 'category': 'one_scoped'}) (input_keys={'question', 'context'}), Example({'context': 'A person reading a paper is not currently sitting inside a pub.', 'question': 'Can we logically conclude for sure that a person reading a paper is not currently sitting inside a building?', 'answer': 'No', 'category': 'one_scoped'}) (input_keys={'question', 'context'}), Example({'context': 'A person reading a paper is not currently sitting inside a building.', 'question': 'Can we logically conclude for sure that a person reading a paper is not currently sitting inside a steakhouse?', 'answer': 'Yes', 'category': 'one_scoped'}) (input_keys={'question', 'context'}), Example({'context': 'A person reading a paper is not currently sitting inside a steakhouse.', 'question': 'Can we logically conclude for sure that a person reading a paper is not currently sitting inside a building?', 'answer': 'No', 'category': 'one_scoped'}) (input_keys={'question', 'context'}), Example({'context': 'A person reading a paper is not currently sitting inside a building.', 'question': 'Can we logically conclude for sure that a person reading a paper is not currently sitting inside a courthouse?', 'answer': 'Yes', 'category': 'one_scoped'}) (input_keys={'question', 'context'}), Example({'context': 'A person reading a paper is not currently sitting inside a courthouse.', 'question': 'Can we logically conclude for sure that a person reading a paper is not currently sitting inside a building?', 'answer': 'No', 'category': 'one_scoped'}) (input_keys={'question', 'context'}), Example({'context': 'A person reading a paper is not currently sitting inside a building.', 'question': 'Can we logically conclude for sure that a person reading a paper is not currently sitting inside a cathedral?', 'answer': 'Yes', 'category': 'one_scoped'}) (input_keys={'question', 'context'}), Example({'context': 'A person reading a paper is not currently sitting inside a cathedral.', 'question': 'Can we logically conclude for sure that a person reading a paper is not currently sitting inside a building?', 'answer': 'No', 'category': 'one_scoped'}) (input_keys={'question', 'context'}), Example({'context': 'A person reading a paper is not currently sitting inside a building.', 'question': 'Can we logically conclude for sure that a person reading a paper is not currently sitting inside a club?', 'answer': 'Yes', 'category': 'one_scoped'}) (input_keys={'question', 'context'}), Example({'context': 'A person reading a paper is not currently sitting inside a club.', 'question': 'Can we logically conclude for sure that a person reading a paper is not currently sitting inside a building?', 'answer': 'No', 'category': 'one_scoped'}) (input_keys={'question', 'context'}), Example({'context': 'A person reading a paper is not currently sitting inside a building.', 'question': 'Can we logically conclude for sure that a person reading a paper is not currently sitting inside a villa?', 'answer': 'Yes', 'category': 'one_scoped'}) (input_keys={'question', 'context'}), Example({'context': 'A person reading a paper is not currently sitting inside a villa.', 'question': 'Can we logically conclude for sure that a person reading a paper is not currently sitting inside a building?', 'answer': 'No', 'category': 'one_scoped'}) (input_keys={'question', 'context'}), Example({'context': 'A person reading a paper is not currently sitting inside a building.', 'question': 'Can we logically conclude for sure that a person reading a paper is not currently sitting inside an embassy?', 'answer': 'Yes', 'category': 'one_scoped'}) (input_keys={'question', 'context'}), Example({'context': 'A person reading a paper is not currently sitting inside an embassy.', 'question': 'Can we logically conclude for sure that a person reading a paper is not currently sitting inside a building?', 'answer': 'No', 'category': 'one_scoped'}) (input_keys={'question', 'context'}), Example({'context': 'A person reading a paper is not currently sitting inside a building.', 'question': 'Can we logically conclude for sure that a person reading a paper is not currently sitting inside a temple?', 'answer': 'Yes', 'category': 'one_scoped'}) (input_keys={'question', 'context'}), Example({'context': 'A person reading a paper is not currently sitting inside a temple.', 'question': 'Can we logically conclude for sure that a person reading a paper is not currently sitting inside a building?', 'answer': 'No', 'category': 'one_scoped'}) (input_keys={'question', 'context'}), Example({'context': 'A person reading a paper is not currently sitting inside a building.', 'question': 'Can we logically conclude for sure that a person reading a paper is not currently sitting inside a hotel?', 'answer': 'Yes', 'category': 'one_scoped'}) (input_keys={'question', 'context'}), Example({'context': 'A person reading a paper is not currently sitting inside a hotel.', 'question': 'Can we logically conclude for sure that a person reading a paper is not currently sitting inside a building?', 'answer': 'No', 'category': 'one_scoped'}) (input_keys={'question', 'context'}), Example({'context': 'A person reading a paper is not currently sitting inside a building.', 'question': 'Can we logically conclude for sure that a person reading a paper is not currently sitting inside a bungalow?', 'answer': 'Yes', 'category': 'one_scoped'}) (input_keys={'question', 'context'}), Example({'context': 'A person reading a paper is not currently sitting inside a bungalow.', 'question': 'Can we logically conclude for sure that a person reading a paper is not currently sitting inside a building?', 'answer': 'No', 'category': 'one_scoped'}) (input_keys={'question', 'context'}), Example({'context': 'A person reading a paper is not currently sitting inside a building.', 'question': 'Can we logically conclude for sure that a person reading a paper is not currently sitting inside a cafeteria?', 'answer': 'Yes', 'category': 'one_scoped'}) (input_keys={'question', 'context'}), Example({'context': 'A person reading a paper is not currently sitting inside a cafeteria.', 'question': 'Can we logically conclude for sure that a person reading a paper is not currently sitting inside a building?', 'answer': 'No', 'category': 'one_scoped'}) (input_keys={'question', 'context'}), Example({'context': 'A person reading a paper is not currently sitting inside a building.', 'question': 'Can we logically conclude for sure that a person reading a paper is not currently sitting inside a dormitory?', 'answer': 'Yes', 'category': 'one_scoped'}) (input_keys={'question', 'context'}), Example({'context': 'A person reading a paper is not currently sitting inside a dormitory.', 'question': 'Can we logically conclude for sure that a person reading a paper is not currently sitting inside a building?', 'answer': 'No', 'category': 'one_scoped'}) (input_keys={'question', 'context'}), Example({'context': 'A person reading a paper is not currently sitting inside a building.', 'question': 'Can we logically conclude for sure that a person reading a paper is not currently sitting inside a planetarium?', 'answer': 'Yes', 'category': 'one_scoped'}) (input_keys={'question', 'context'}), Example({'context': 'A person reading a paper is not currently sitting inside a planetarium.', 'question': 'Can we logically conclude for sure that a person reading a paper is not currently sitting inside a building?', 'answer': 'No', 'category': 'one_scoped'}) (input_keys={'question', 'context'}), Example({'context': 'A person reading a paper is not currently sitting inside a building.', 'question': 'Can we logically conclude for sure that a person reading a paper is not currently sitting inside a diner?', 'answer': 'Yes', 'category': 'one_scoped'}) (input_keys={'question', 'context'}), Example({'context': 'A person reading a paper is not currently sitting inside a diner.', 'question': 'Can we logically conclude for sure that a person reading a paper is not currently sitting inside a building?', 'answer': 'No', 'category': 'one_scoped'}) (input_keys={'question', 'context'}), Example({'context': 'A person reading a paper is not currently sitting inside a building.', 'question': 'Can we logically conclude for sure that a person reading a paper is not currently sitting inside a cafe?', 'answer': 'Yes', 'category': 'one_scoped'}) (input_keys={'question', 'context'}), Example({'context': 'A person reading a paper is not currently sitting inside a cafe.', 'question': 'Can we logically conclude for sure that a person reading a paper is not currently sitting inside a building?', 'answer': 'No', 'category': 'one_scoped'}) (input_keys={'question', 'context'}), Example({'context': 'A person reading a paper is not currently sitting inside a building.', 'question': 'Can we logically conclude for sure that a person reading a paper is not currently sitting inside a clinic?', 'answer': 'Yes', 'category': 'one_scoped'}) (input_keys={'question', 'context'}), Example({'context': 'A person reading a paper is not currently sitting inside a clinic.', 'question': 'Can we logically conclude for sure that a person reading a paper is not currently sitting inside a building?', 'answer': 'No', 'category': 'one_scoped'}) (input_keys={'question', 'context'}), Example({'context': 'A person reading a paper is not currently sitting inside a building.', 'question': 'Can we logically conclude for sure that a person reading a paper is not currently sitting inside a skyscraper?', 'answer': 'Yes', 'category': 'one_scoped'}) (input_keys={'question', 'context'}), Example({'context': 'A person reading a paper is not currently sitting inside a skyscraper.', 'question': 'Can we logically conclude for sure that a person reading a paper is not currently sitting inside a building?', 'answer': 'No', 'category': 'one_scoped'}) (input_keys={'question', 'context'}), Example({'context': 'A person reading a paper is not currently sitting inside a building.', 'question': 'Can we logically conclude for sure that a person reading a paper is not currently sitting inside a hospital?', 'answer': 'Yes', 'category': 'one_scoped'}) (input_keys={'question', 'context'}), Example({'context': 'A person reading a paper is not currently sitting inside a hospital.', 'question': 'Can we logically conclude for sure that a person reading a paper is not currently sitting inside a building?', 'answer': 'No', 'category': 'one_scoped'}) (input_keys={'question', 'context'}), Example({'context': 'A person reading a paper is not currently sitting inside a building.', 'question': 'Can we logically conclude for sure that a person reading a paper is not currently sitting inside a manor?', 'answer': 'Yes', 'category': 'one_scoped'}) (input_keys={'question', 'context'}), Example({'context': 'A person reading a paper is not currently sitting inside a manor.', 'question': 'Can we logically conclude for sure that a person reading a paper is not currently sitting inside a building?', 'answer': 'No', 'category': 'one_scoped'}) (input_keys={'question', 'context'}), Example({'context': 'A person reading a paper is not currently sitting inside a building.', 'question': 'Can we logically conclude for sure that a person reading a paper is not currently sitting inside a cinema?', 'answer': 'Yes', 'category': 'one_scoped'}) (input_keys={'question', 'context'}), Example({'context': 'A person reading a paper is not currently sitting inside a cinema.', 'question': 'Can we logically conclude for sure that a person reading a paper is not currently sitting inside a building?', 'answer': 'No', 'category': 'one_scoped'}) (input_keys={'question', 'context'}), Example({'context': 'A person reading a paper is not currently sitting inside a building.', 'question': 'Can we logically conclude for sure that a person reading a paper is not currently sitting inside a motel?', 'answer': 'Yes', 'category': 'one_scoped'}) (input_keys={'question', 'context'}), Example({'context': 'A person reading a paper is not currently sitting inside a motel.', 'question': 'Can we logically conclude for sure that a person reading a paper is not currently sitting inside a building?', 'answer': 'No', 'category': 'one_scoped'}) (input_keys={'question', 'context'}), Example({'context': 'A person reading a paper is not currently sitting inside a building.', 'question': 'Can we logically conclude for sure that a person reading a paper is not currently sitting inside a library?', 'answer': 'Yes', 'category': 'one_scoped'}) (input_keys={'question', 'context'}), Example({'context': 'A person reading a paper is not currently sitting inside a library.', 'question': 'Can we logically conclude for sure that a person reading a paper is not currently sitting inside a building?', 'answer': 'No', 'category': 'one_scoped'}) (input_keys={'question', 'context'}), Example({'context': 'A person reading a paper is not currently sitting inside a building.', 'question': 'Can we logically conclude for sure that a person reading a paper is not currently sitting inside an inn?', 'answer': 'Yes', 'category': 'one_scoped'}) (input_keys={'question', 'context'}), Example({'context': 'A person reading a paper is not currently sitting inside an inn.', 'question': 'Can we logically conclude for sure that a person reading a paper is not currently sitting inside a building?', 'answer': 'No', 'category': 'one_scoped'}) (input_keys={'question', 'context'}), Example({'context': 'A dog did not catch any ball.', 'question': 'Can we logically conclude for sure that a dog did not catch any basketball?', 'answer': 'Yes', 'category': 'one_scoped'}) (input_keys={'question', 'context'}), Example({'context': 'A dog did not catch any basketball.', 'question': 'Can we logically conclude for sure that a dog did not catch any ball?', 'answer': 'No', 'category': 'one_scoped'}) (input_keys={'question', 'context'}), Example({'context': 'A dog did not catch any ball.', 'question': 'Can we logically conclude for sure that a dog did not catch any football?', 'answer': 'Yes', 'category': 'one_scoped'}) (input_keys={'question', 'context'}), Example({'context': 'A dog did not catch any football.', 'question': 'Can we logically conclude for sure that a dog did not catch any ball?', 'answer': 'No', 'category': 'one_scoped'}) (input_keys={'question', 'context'}), Example({'context': 'A dog did not catch any ball.', 'question': 'Can we logically conclude for sure that a dog did not catch any handball?', 'answer': 'Yes', 'category': 'one_scoped'}) (input_keys={'question', 'context'}), Example({'context': 'A dog did not catch any handball.', 'question': 'Can we logically conclude for sure that a dog did not catch any ball?', 'answer': 'No', 'category': 'one_scoped'}) (input_keys={'question', 'context'}), Example({'context': 'A dog did not catch any ball.', 'question': 'Can we logically conclude for sure that a dog did not catch any softball?', 'answer': 'Yes', 'category': 'one_scoped'}) (input_keys={'question', 'context'}), Example({'context': 'A dog did not catch any softball.', 'question': 'Can we logically conclude for sure that a dog did not catch any ball?', 'answer': 'No', 'category': 'one_scoped'}) (input_keys={'question', 'context'}), Example({'context': 'A dog did not catch any ball.', 'question': 'Can we logically conclude for sure that a dog did not catch any racquetball?', 'answer': 'Yes', 'category': 'one_scoped'}) (input_keys={'question', 'context'}), Example({'context': 'A dog did not catch any racquetball.', 'question': 'Can we logically conclude for sure that a dog did not catch any ball?', 'answer': 'No', 'category': 'one_scoped'}) (input_keys={'question', 'context'}), Example({'context': 'A dog did not catch any ball.', 'question': 'Can we logically conclude for sure that a dog did not catch any volleyball?', 'answer': 'Yes', 'category': 'one_scoped'}) (input_keys={'question', 'context'}), Example({'context': 'A dog did not catch any volleyball.', 'question': 'Can we logically conclude for sure that a dog did not catch any ball?', 'answer': 'No', 'category': 'one_scoped'}) (input_keys={'question', 'context'}), Example({'context': 'A dog did not catch any ball.', 'question': 'Can we logically conclude for sure that a dog did not catch any baseball?', 'answer': 'Yes', 'category': 'one_scoped'}) (input_keys={'question', 'context'}), Example({'context': 'A dog did not catch any baseball.', 'question': 'Can we logically conclude for sure that a dog did not catch any ball?', 'answer': 'No', 'category': 'one_scoped'}) (input_keys={'question', 'context'}), Example({'context': 'The players did not have a ball.', 'question': 'Can we logically conclude for sure that the players did not have a baseball?', 'answer': 'Yes', 'category': 'one_scoped'}) (input_keys={'question', 'context'}), Example({'context': 'The players did not have a baseball.', 'question': 'Can we logically conclude for sure that the players did not have a ball?', 'answer': 'No', 'category': 'one_scoped'}) (input_keys={'question', 'context'}), Example({'context': 'The players did not have a ball.', 'question': 'Can we logically conclude for sure that the players did not have a basketball?', 'answer': 'Yes', 'category': 'one_scoped'}) (input_keys={'question', 'context'}), Example({'context': 'The players did not have a basketball.', 'question': 'Can we logically conclude for sure that the players did not have a ball?', 'answer': 'No', 'category': 'one_scoped'}) (input_keys={'question', 'context'}), Example({'context': 'The players did not have a ball.', 'question': 'Can we logically conclude for sure that the players did not have a volleyball?', 'answer': 'Yes', 'category': 'one_scoped'}) (input_keys={'question', 'context'}), Example({'context': 'The players did not have a volleyball.', 'question': 'Can we logically conclude for sure that the players did not have a ball?', 'answer': 'No', 'category': 'one_scoped'}) (input_keys={'question', 'context'}), Example({'context': 'The players did not have a ball.', 'question': 'Can we logically conclude for sure that the players did not have a handball?', 'answer': 'Yes', 'category': 'one_scoped'}) (input_keys={'question', 'context'}), Example({'context': 'The players did not have a handball.', 'question': 'Can we logically conclude for sure that the players did not have a ball?', 'answer': 'No', 'category': 'one_scoped'}) (input_keys={'question', 'context'}), Example({'context': 'The players did not have a ball.', 'question': 'Can we logically conclude for sure that the players did not have a football?', 'answer': 'Yes', 'category': 'one_scoped'}) (input_keys={'question', 'context'}), Example({'context': 'The players did not have a football.', 'question': 'Can we logically conclude for sure that the players did not have a ball?', 'answer': 'No', 'category': 'one_scoped'}) (input_keys={'question', 'context'}), Example({'context': 'The players did not have a ball.', 'question': 'Can we logically conclude for sure that the players did not have a racquetball?', 'answer': 'Yes', 'category': 'one_scoped'}) (input_keys={'question', 'context'}), Example({'context': 'The players did not have a racquetball.', 'question': 'Can we logically conclude for sure that the players did not have a ball?', 'answer': 'No', 'category': 'one_scoped'}) (input_keys={'question', 'context'}), Example({'context': 'The players did not have a ball.', 'question': 'Can we logically conclude for sure that the players did not have a softball?', 'answer': 'Yes', 'category': 'one_scoped'}) (input_keys={'question', 'context'}), Example({'context': 'The players did not have a softball.', 'question': 'Can we logically conclude for sure that the players did not have a ball?', 'answer': 'No', 'category': 'one_scoped'}) (input_keys={'question', 'context'}), Example({'context': 'The man is not steering a car', 'question': 'Can we logically conclude for sure that the man is not steering a taxi?', 'answer': 'Yes', 'category': 'one_scoped'}) (input_keys={'question', 'context'}), Example({'context': 'The man is not steering a taxi', 'question': 'Can we logically conclude for sure that the man is not steering a car?', 'answer': 'No', 'category': 'one_scoped'}) (input_keys={'question', 'context'}), Example({'context': 'The man is not steering a car', 'question': 'Can we logically conclude for sure that the man is not steering a SUV?', 'answer': 'Yes', 'category': 'one_scoped'}) (input_keys={'question', 'context'}), Example({'context': 'The man is not steering a SUV', 'question': 'Can we logically conclude for sure that the man is not steering a car?', 'answer': 'No', 'category': 'one_scoped'}) (input_keys={'question', 'context'}), Example({'context': 'The man is not steering a car', 'question': 'Can we logically conclude for sure that the man is not steering a subcompact?', 'answer': 'Yes', 'category': 'one_scoped'}) (input_keys={'question', 'context'}), Example({'context': 'The man is not steering a subcompact', 'question': 'Can we logically conclude for sure that the man is not steering a car?', 'answer': 'No', 'category': 'one_scoped'}) (input_keys={'question', 'context'}), Example({'context': 'The man is not steering a car', 'question': 'Can we logically conclude for sure that the man is not steering a convertible?', 'answer': 'Yes', 'category': 'one_scoped'}) (input_keys={'question', 'context'}), Example({'context': 'The man is not steering a convertible', 'question': 'Can we logically conclude for sure that the man is not steering a car?', 'answer': 'No', 'category': 'one_scoped'}) (input_keys={'question', 'context'}), Example({'context': 'The man is not steering a car', 'question': 'Can we logically conclude for sure that the man is not steering a jeep?', 'answer': 'Yes', 'category': 'one_scoped'}) (input_keys={'question', 'context'}), Example({'context': 'The man is not steering a jeep', 'question': 'Can we logically conclude for sure that the man is not steering a car?', 'answer': 'No', 'category': 'one_scoped'}) (input_keys={'question', 'context'}), Example({'context': 'The man is not steering a car', 'question': 'Can we logically conclude for sure that the man is not steering a sedan?', 'answer': 'Yes', 'category': 'one_scoped'}) (input_keys={'question', 'context'}), Example({'context': 'The man is not steering a sedan', 'question': 'Can we logically conclude for sure that the man is not steering a car?', 'answer': 'No', 'category': 'one_scoped'}) (input_keys={'question', 'context'})]\n"
     ]
    }
   ],
   "source": [
    "random.seed(1)\n",
    "test = load_scone(root_dir = \"C:\\\\Users\\\\julia\\\\OneDrive\\\\Desktop\\\\MFTI_code\\\\dspy\\\\scone_nli\\\\test\")\n",
    "test = [ex for ex in test if ex.category == \"one_scoped\"]\n",
    "pd.Series([ex.answer for ex in test]).value_counts()\n",
    "# print(test)"
   ]
  },
  {
   "cell_type": "markdown",
   "metadata": {},
   "source": [
    "## Подключение тулз для подсчета Accuracy"
   ]
  },
  {
   "cell_type": "code",
   "execution_count": 138,
   "metadata": {},
   "outputs": [],
   "source": [
    "scone_accuracy = dspy.evaluate.metrics.answer_exact_match\n",
    "evaluator = Evaluate(devset = test, num_threads = 1, display_progress = True, display_table = 0)"
   ]
  },
  {
   "cell_type": "markdown",
   "metadata": {},
   "source": [
    "## Zero-shot CoT  "
   ]
  },
  {
   "cell_type": "code",
   "execution_count": 139,
   "metadata": {},
   "outputs": [],
   "source": [
    "class ScoNeSignature(dspy.Signature):\n",
    "    (\"\"\"You are given some context (a premise) and a question (a hypothesis). You must indicate with Yes/No answer whether we can logically\n",
    "    conclude the hypothesis from the premise.\"\"\")\n",
    "    context = dspy.InputField()\n",
    "    question = dspy.InputField()\n",
    "    answer = dspy.OutputField(desc = \"Yes or No\")\n",
    "\n",
    "class ScoNeCoT(dspy.Module):\n",
    "    def __init__(self):\n",
    "        super().__init__()\n",
    "        self.generate_answer = dspy.ChainOfThought(ScoNeSignature)\n",
    "    def forward(self, context, question):\n",
    "        return self.generate_answer(context = context, question = question)"
   ]
  },
  {
   "cell_type": "markdown",
   "metadata": {},
   "source": [
    "## Запуск и оценка"
   ]
  },
  {
   "cell_type": "code",
   "execution_count": 140,
   "metadata": {},
   "outputs": [
    {
     "name": "stdout",
     "output_type": "stream",
     "text": [
      "Average Metric: 109 / 200  (54.5): 100%|██████████| 200/200 [06:57<00:00,  2.09s/it]"
     ]
    },
    {
     "name": "stderr",
     "output_type": "stream",
     "text": [
      "2024/11/11 18:06:53 INFO dspy.evaluate.evaluate: Average Metric: 109 / 200 (54.5%)\n"
     ]
    },
    {
     "name": "stdout",
     "output_type": "stream",
     "text": [
      "\n"
     ]
    },
    {
     "data": {
      "text/plain": [
       "54.5"
      ]
     },
     "execution_count": 140,
     "metadata": {},
     "output_type": "execute_result"
    }
   ],
   "source": [
    "cot_zeroshot = ScoNeCoT()\n",
    "evaluator(cot_zeroshot, metric = scone_accuracy)"
   ]
  },
  {
   "cell_type": "markdown",
   "metadata": {},
   "source": [
    "## Оптимизируем полученные результаты с помощью автоматической генерации Few-Shot CoT и GPT4o"
   ]
  },
  {
   "cell_type": "code",
   "execution_count": 143,
   "metadata": {},
   "outputs": [
    {
     "name": "stdout",
     "output_type": "stream",
     "text": [
      "Going to sample between 1 and 8 traces per predictor.\n",
      "Will attempt to bootstrap 10 candidate sets.\n"
     ]
    }
   ],
   "source": [
    "bootstrap_optimizer = BootstrapFewShotWithRandomSearch(\n",
    "    max_bootstrapped_demos = 8,\n",
    "    max_labeled_demos = 8,\n",
    "    num_candidate_programs = 10,\n",
    "    num_threads = 8,\n",
    "    metric = scone_accuracy,\n",
    "    teacher_settings = dict(lm = gpt4))"
   ]
  },
  {
   "cell_type": "code",
   "execution_count": 144,
   "metadata": {},
   "outputs": [
    {
     "name": "stderr",
     "output_type": "stream",
     "text": [
      "Average Metric: 25 / 50  (50.0): 100%|██████████| 50/50 [00:11<00:00,  4.51it/s]\n",
      "2024/11/12 17:57:11 INFO dspy.evaluate.evaluate: Average Metric: 25 / 50 (50.0%)\n"
     ]
    },
    {
     "name": "stdout",
     "output_type": "stream",
     "text": [
      "New best score: 50.0 for seed -3\n",
      "Scores so far: [50.0]\n",
      "Best score so far: 50.0\n"
     ]
    },
    {
     "name": "stderr",
     "output_type": "stream",
     "text": [
      "Average Metric: 35 / 50  (70.0): 100%|██████████| 50/50 [00:13<00:00,  3.80it/s]\n",
      "2024/11/12 17:57:24 INFO dspy.evaluate.evaluate: Average Metric: 35 / 50 (70.0%)\n"
     ]
    },
    {
     "name": "stdout",
     "output_type": "stream",
     "text": [
      "New best score: 70.0 for seed -2\n",
      "Scores so far: [50.0, 70.0]\n",
      "Best score so far: 70.0\n"
     ]
    },
    {
     "name": "stderr",
     "output_type": "stream",
     "text": [
      "  5%|▌         | 10/200 [00:43<13:40,  4.32s/it]\n"
     ]
    },
    {
     "name": "stdout",
     "output_type": "stream",
     "text": [
      "Bootstrapped 8 full traces after 10 examples for up to 1 rounds, amounting to 10 attempts.\n"
     ]
    },
    {
     "name": "stderr",
     "output_type": "stream",
     "text": [
      "Average Metric: 33 / 50  (66.0): 100%|██████████| 50/50 [00:13<00:00,  3.77it/s]\n",
      "2024/11/12 17:58:20 INFO dspy.evaluate.evaluate: Average Metric: 33 / 50 (66.0%)\n"
     ]
    },
    {
     "name": "stdout",
     "output_type": "stream",
     "text": [
      "Scores so far: [50.0, 70.0, 66.0]\n",
      "Best score so far: 70.0\n"
     ]
    },
    {
     "name": "stderr",
     "output_type": "stream",
     "text": [
      "  4%|▍         | 8/200 [00:24<09:42,  3.03s/it]\n"
     ]
    },
    {
     "name": "stdout",
     "output_type": "stream",
     "text": [
      "Bootstrapped 7 full traces after 8 examples for up to 1 rounds, amounting to 8 attempts.\n"
     ]
    },
    {
     "name": "stderr",
     "output_type": "stream",
     "text": [
      "Average Metric: 36 / 50  (72.0): 100%|██████████| 50/50 [00:13<00:00,  3.63it/s]\n",
      "2024/11/12 17:58:58 INFO dspy.evaluate.evaluate: Average Metric: 36 / 50 (72.0%)\n"
     ]
    },
    {
     "name": "stdout",
     "output_type": "stream",
     "text": [
      "New best score: 72.0 for seed 0\n",
      "Scores so far: [50.0, 70.0, 66.0, 72.0]\n",
      "Best score so far: 72.0\n"
     ]
    },
    {
     "name": "stderr",
     "output_type": "stream",
     "text": [
      "  3%|▎         | 6/200 [00:24<13:00,  4.03s/it]\n"
     ]
    },
    {
     "name": "stdout",
     "output_type": "stream",
     "text": [
      "Bootstrapped 3 full traces after 6 examples for up to 1 rounds, amounting to 6 attempts.\n"
     ]
    },
    {
     "name": "stderr",
     "output_type": "stream",
     "text": [
      "Average Metric: 30 / 50  (60.0): 100%|██████████| 50/50 [00:12<00:00,  4.03it/s]\n",
      "2024/11/12 17:59:35 INFO dspy.evaluate.evaluate: Average Metric: 30 / 50 (60.0%)\n"
     ]
    },
    {
     "name": "stdout",
     "output_type": "stream",
     "text": [
      "Scores so far: [50.0, 70.0, 66.0, 72.0, 60.0]\n",
      "Best score so far: 72.0\n"
     ]
    },
    {
     "name": "stderr",
     "output_type": "stream",
     "text": [
      "  0%|          | 1/200 [00:01<06:15,  1.89s/it]\n"
     ]
    },
    {
     "name": "stdout",
     "output_type": "stream",
     "text": [
      "Bootstrapped 1 full traces after 1 examples for up to 1 rounds, amounting to 1 attempts.\n"
     ]
    },
    {
     "name": "stderr",
     "output_type": "stream",
     "text": [
      "Average Metric: 35 / 50  (70.0): 100%|██████████| 50/50 [00:12<00:00,  3.93it/s]\n",
      "2024/11/12 17:59:49 INFO dspy.evaluate.evaluate: Average Metric: 35 / 50 (70.0%)\n"
     ]
    },
    {
     "name": "stdout",
     "output_type": "stream",
     "text": [
      "Scores so far: [50.0, 70.0, 66.0, 72.0, 60.0, 70.0]\n",
      "Best score so far: 72.0\n"
     ]
    },
    {
     "name": "stderr",
     "output_type": "stream",
     "text": [
      "  2%|▏         | 4/200 [00:08<07:10,  2.19s/it]\n"
     ]
    },
    {
     "name": "stdout",
     "output_type": "stream",
     "text": [
      "Bootstrapped 4 full traces after 4 examples for up to 1 rounds, amounting to 4 attempts.\n"
     ]
    },
    {
     "name": "stderr",
     "output_type": "stream",
     "text": [
      "Average Metric: 33 / 50  (66.0): 100%|██████████| 50/50 [00:14<00:00,  3.49it/s]\n",
      "2024/11/12 18:00:13 INFO dspy.evaluate.evaluate: Average Metric: 33 / 50 (66.0%)\n"
     ]
    },
    {
     "name": "stdout",
     "output_type": "stream",
     "text": [
      "Scores so far: [50.0, 70.0, 66.0, 72.0, 60.0, 70.0, 66.0]\n",
      "Best score so far: 72.0\n"
     ]
    },
    {
     "name": "stderr",
     "output_type": "stream",
     "text": [
      "  2%|▏         | 4/200 [00:09<07:35,  2.33s/it]\n"
     ]
    },
    {
     "name": "stdout",
     "output_type": "stream",
     "text": [
      "Bootstrapped 4 full traces after 4 examples for up to 1 rounds, amounting to 4 attempts.\n"
     ]
    },
    {
     "name": "stderr",
     "output_type": "stream",
     "text": [
      "Average Metric: 41 / 50  (82.0): 100%|██████████| 50/50 [00:13<00:00,  3.78it/s] \n",
      "2024/11/12 18:00:35 INFO dspy.evaluate.evaluate: Average Metric: 41 / 50 (82.0%)\n"
     ]
    },
    {
     "name": "stdout",
     "output_type": "stream",
     "text": [
      "New best score: 82.0 for seed 4\n",
      "Scores so far: [50.0, 70.0, 66.0, 72.0, 60.0, 70.0, 66.0, 82.0]\n",
      "Best score so far: 82.0\n"
     ]
    },
    {
     "name": "stderr",
     "output_type": "stream",
     "text": [
      "  3%|▎         | 6/200 [00:18<10:13,  3.16s/it]\n"
     ]
    },
    {
     "name": "stdout",
     "output_type": "stream",
     "text": [
      "Bootstrapped 5 full traces after 6 examples for up to 1 rounds, amounting to 6 attempts.\n"
     ]
    },
    {
     "name": "stderr",
     "output_type": "stream",
     "text": [
      "Average Metric: 35 / 50  (70.0): 100%|██████████| 50/50 [00:13<00:00,  3.82it/s]\n",
      "2024/11/12 18:01:07 INFO dspy.evaluate.evaluate: Average Metric: 35 / 50 (70.0%)\n"
     ]
    },
    {
     "name": "stdout",
     "output_type": "stream",
     "text": [
      "Scores so far: [50.0, 70.0, 66.0, 72.0, 60.0, 70.0, 66.0, 82.0, 70.0]\n",
      "Best score so far: 82.0\n"
     ]
    },
    {
     "name": "stderr",
     "output_type": "stream",
     "text": [
      "  1%|          | 2/200 [00:04<08:04,  2.44s/it]\n"
     ]
    },
    {
     "name": "stdout",
     "output_type": "stream",
     "text": [
      "Bootstrapped 2 full traces after 2 examples for up to 1 rounds, amounting to 2 attempts.\n"
     ]
    },
    {
     "name": "stderr",
     "output_type": "stream",
     "text": [
      "Average Metric: 36 / 50  (72.0): 100%|██████████| 50/50 [00:16<00:00,  2.98it/s]\n",
      "2024/11/12 18:01:29 INFO dspy.evaluate.evaluate: Average Metric: 36 / 50 (72.0%)\n"
     ]
    },
    {
     "name": "stdout",
     "output_type": "stream",
     "text": [
      "Scores so far: [50.0, 70.0, 66.0, 72.0, 60.0, 70.0, 66.0, 82.0, 70.0, 72.0]\n",
      "Best score so far: 82.0\n"
     ]
    },
    {
     "name": "stderr",
     "output_type": "stream",
     "text": [
      "  4%|▎         | 7/200 [00:20<09:26,  2.93s/it]\n"
     ]
    },
    {
     "name": "stdout",
     "output_type": "stream",
     "text": [
      "Bootstrapped 6 full traces after 7 examples for up to 1 rounds, amounting to 7 attempts.\n"
     ]
    },
    {
     "name": "stderr",
     "output_type": "stream",
     "text": [
      "Average Metric: 38 / 50  (76.0): 100%|██████████| 50/50 [00:13<00:00,  3.60it/s]\n",
      "2024/11/12 18:02:03 INFO dspy.evaluate.evaluate: Average Metric: 38 / 50 (76.0%)\n"
     ]
    },
    {
     "name": "stdout",
     "output_type": "stream",
     "text": [
      "Scores so far: [50.0, 70.0, 66.0, 72.0, 60.0, 70.0, 66.0, 82.0, 70.0, 72.0, 76.0]\n",
      "Best score so far: 82.0\n"
     ]
    },
    {
     "name": "stderr",
     "output_type": "stream",
     "text": [
      "  2%|▎         | 5/200 [00:13<08:31,  2.62s/it]\n"
     ]
    },
    {
     "name": "stdout",
     "output_type": "stream",
     "text": [
      "Bootstrapped 4 full traces after 5 examples for up to 1 rounds, amounting to 5 attempts.\n"
     ]
    },
    {
     "name": "stderr",
     "output_type": "stream",
     "text": [
      "Average Metric: 38 / 50  (76.0): 100%|██████████| 50/50 [00:13<00:00,  3.66it/s]\n",
      "2024/11/12 18:02:30 INFO dspy.evaluate.evaluate: Average Metric: 38 / 50 (76.0%)\n"
     ]
    },
    {
     "name": "stdout",
     "output_type": "stream",
     "text": [
      "Scores so far: [50.0, 70.0, 66.0, 72.0, 60.0, 70.0, 66.0, 82.0, 70.0, 72.0, 76.0, 76.0]\n",
      "Best score so far: 82.0\n"
     ]
    },
    {
     "name": "stderr",
     "output_type": "stream",
     "text": [
      "  5%|▌         | 10/200 [00:37<11:51,  3.75s/it]\n"
     ]
    },
    {
     "name": "stdout",
     "output_type": "stream",
     "text": [
      "Bootstrapped 8 full traces after 10 examples for up to 1 rounds, amounting to 10 attempts.\n"
     ]
    },
    {
     "name": "stderr",
     "output_type": "stream",
     "text": [
      "Average Metric: 37 / 50  (74.0): 100%|██████████| 50/50 [00:13<00:00,  3.75it/s]\n",
      "2024/11/12 18:03:21 INFO dspy.evaluate.evaluate: Average Metric: 37 / 50 (74.0%)\n"
     ]
    },
    {
     "name": "stdout",
     "output_type": "stream",
     "text": [
      "Scores so far: [50.0, 70.0, 66.0, 72.0, 60.0, 70.0, 66.0, 82.0, 70.0, 72.0, 76.0, 76.0, 74.0]\n",
      "Best score so far: 82.0\n",
      "13 candidate programs found.\n"
     ]
    }
   ],
   "source": [
    "if RUN_FROM_SCRATCH:\n",
    "    cot_fewshot = bootstrap_optimizer.compile(cot_zeroshot, trainset = train, valset = dev)\n",
    "else:\n",
    "    cot_fewshot = ScoNeCoT()\n",
    "    cot_fewshot.load(\"scone-cot_fewshot-turbo-gpt4-demos.json\")"
   ]
  }
 ],
 "metadata": {
  "kernelspec": {
   "display_name": "env_for_dspy",
   "language": "python",
   "name": "python3"
  },
  "language_info": {
   "codemirror_mode": {
    "name": "ipython",
    "version": 3
   },
   "file_extension": ".py",
   "mimetype": "text/x-python",
   "name": "python",
   "nbconvert_exporter": "python",
   "pygments_lexer": "ipython3",
   "version": "3.12.2"
  }
 },
 "nbformat": 4,
 "nbformat_minor": 2
}
